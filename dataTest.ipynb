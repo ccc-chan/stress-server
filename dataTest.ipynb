{
 "cells": [
  {
   "cell_type": "code",
   "execution_count": 10,
   "metadata": {},
   "outputs": [],
   "source": [
    "from numpy import *\n",
    "import matplotlib.pyplot as plt\n",
    "from scipy import integrate\n",
    "from scipy import stats\n",
    "import pandas as pd\n",
    "from datetime import datetime, timedelta\n",
    "import os\n",
    "\n",
    "from price import pricingModel as pm\n",
    "from price import others as others\n",
    "from price import optionPricingFormulas2 as opf2\n",
    "from price import riskFreeRate as rate"
   ]
  },
  {
   "cell_type": "code",
   "execution_count": 11,
   "metadata": {},
   "outputs": [],
   "source": [
    "def readData():\n",
    "    sigmaDataPath = os.path.abspath(os.path.join(\"__file__\", \"../price/sigmaData.xls\"))\n",
    "    sigmaData = pd.read_excel(sigmaDataPath)\n",
    "    sigmaData = sigmaData.where(sigmaData.notnull(), None)\n",
    "    defaultSigma = None\n",
    "    defaultTodayPrice = None ###########\n",
    "    defaultQuantity = None\n",
    "    \n",
    "    sigmaDic = {}\n",
    "    todayPriceDic = {} #todayPrice is the input file day's price and has no relation to the input T\n",
    "    quantityDic = {}\n",
    "    liveID = []\n",
    "    \n",
    "    for i in range(len(sigmaData)):\n",
    "        if sigmaData[\"Unnamed: 1\"][i] is not None:\n",
    "            liveID.append(sigmaData[\"Unnamed: 1\"][i].split()[-1])\n",
    "            if sigmaData[\"Vol\"][i] is not None:\n",
    "                sigmaDic[sigmaData[\"Unnamed: 1\"][i].split()[-1]] = (sigmaData[\"Vol\"][i] / 100.0)\n",
    "            else:\n",
    "                sigmaDic[sigmaData[\"Unnamed: 1\"][i].split()[-1]] = defaultSigma\n",
    "            \n",
    "            if sigmaData[\"Underlying_Spot\"][i] is not None:\n",
    "                todayPriceDic[sigmaData[\"Unnamed: 1\"][i].split()[-1]] = sigmaData[\"Underlying_Spot\"][i]\n",
    "            else:\n",
    "                todayPriceDic[sigmaData[\"Unnamed: 1\"][i].split()[-1]] = defaultTodayPrice\n",
    "                \n",
    "            if sigmaData[\"Quantity\"][i] is not None:\n",
    "                quantityDic[sigmaData[\"Unnamed: 1\"][i].split()[-1]] = sigmaData[\"Quantity\"][i]\n",
    "            else:\n",
    "                quantityDic[sigmaData[\"Unnamed: 1\"][i].split()[-1]] = defaultQuantity\n",
    "\n",
    "    historyDataPath = os.path.abspath(os.path.join(\"__file__\", \"../price/historyData.xls\"))\n",
    "    data = pd.read_excel(historyDataPath)\n",
    "    data = data.where(data.notnull(), None)\n",
    "    data.drop([0], axis = 0, inplace = True) #inplace means data = data.changed\n",
    "    data.reset_index(drop = True, inplace = True)\n",
    "    data.rename(columns = {\"AGGREGATION\":\"AGGREGATION BUNDLE\"}, inplace = True)\n",
    "    \n",
    "    liveIDBoolSet = []\n",
    "    for ID in data[\"AGGREGATION BUNDLE\"]:\n",
    "        if ID in liveID:\n",
    "            liveIDBoolSet.append(True)\n",
    "        else:\n",
    "            liveIDBoolSet.append(False)\n",
    "    data = data[liveIDBoolSet]\n",
    "    data.reset_index(drop = True, inplace = True)\n",
    "\n",
    "    \n",
    "    data[\"k\"] = data[\"执行价格\"]\n",
    "    data[\"startingPrice\"] = data[\"期初价格\"]\n",
    "    \n",
    "    s0Set = []\n",
    "    for i in range(len(data)):\n",
    "        if data[\"AGGREGATION BUNDLE\"][i] in todayPriceDic:\n",
    "            s0Set.append(todayPriceDic[data[\"AGGREGATION BUNDLE\"][i]])\n",
    "        else:\n",
    "            s0Set.append(defaultTodayPrice)\n",
    "    data[\"s0\"] = s0Set\n",
    "\n",
    "    sigmaSet = []\n",
    "    for i in range(len(data)):\n",
    "        if data[\"AGGREGATION BUNDLE\"][i] in sigmaDic:\n",
    "            sigmaSet.append(sigmaDic[data[\"AGGREGATION BUNDLE\"][i]])\n",
    "        else:\n",
    "            sigmaSet.append(defaultSigma)\n",
    "    data[\"sigma\"] = sigmaSet\n",
    "    \n",
    "    quantitySet = []\n",
    "    for i in range(len(data)):\n",
    "        if data[\"AGGREGATION BUNDLE\"][i] in quantityDic:\n",
    "            quantitySet.append(quantityDic[data[\"AGGREGATION BUNDLE\"][i]])\n",
    "        else:\n",
    "            quantitySet.append(defaultQuantity)\n",
    "    data[\"quantity\"] = quantitySet\n",
    "    \n",
    "    buySet = []\n",
    "    for i in range(len(data)):\n",
    "        if data[\"Buy/Sell\"][i] == \"Buy\":\n",
    "            buySet.append(True)\n",
    "        else:\n",
    "            buySet.append(False)\n",
    "    data[\"buy\"] = buySet\n",
    "    \n",
    "    data[\"price\"] = None\n",
    "    data[\"delta\"] = None\n",
    "    data[\"gamma\"] = None\n",
    "    data[\"vega\"] = None\n",
    "    data[\"theta\"] = None\n",
    "    return data\n",
    "\n",
    "def setT(data, today):\n",
    "    T_tmp = []\n",
    "    setDay = datetime.strptime(today, '%Y-%m-%d') #fixed format\n",
    "    for daysDelta in (data[\"期末定价日\"] - setDay):\n",
    "        if type(daysDelta.days) != type(int(1)): #should be type.int\n",
    "            T_tmp.append(int(0))\n",
    "        elif daysDelta.days < 0:\n",
    "            T_tmp.append(int(0))\n",
    "        else:\n",
    "            T_tmp.append(daysDelta.days)\n",
    "    data[\"T\"] = T_tmp #it means from the chosen date to the end date\n",
    "    return data"
   ]
  },
  {
   "cell_type": "code",
   "execution_count": 12,
   "metadata": {},
   "outputs": [],
   "source": [
    "data = readData()\n",
    "data = setT(data,\"2019-07-08\")"
   ]
  },
  {
   "cell_type": "code",
   "execution_count": 13,
   "metadata": {},
   "outputs": [
    {
     "data": {
      "text/plain": [
       "Int64Index([19], dtype='int64')"
      ]
     },
     "execution_count": 13,
     "metadata": {},
     "output_type": "execute_result"
    }
   ],
   "source": [
    "data[data[\"AGGREGATION BUNDLE\"] == \"19581693\"].index"
   ]
  },
  {
   "cell_type": "code",
   "execution_count": 14,
   "metadata": {},
   "outputs": [
    {
     "data": {
      "text/plain": [
       "AGGREGATION BUNDLE                    19581693\n",
       "Product Reference     CSC2019014-3309.22.VCALL\n",
       "类型                                       VCALL\n",
       "Sub Type                              European\n",
       "涨跌                                        CALL\n",
       "欧式\\美式                                 European\n",
       "WIND代码                               000300.SH\n",
       "结构简称                                      None\n",
       "期初定价日                      2019-07-05 00:00:00\n",
       "期末定价日                      2019-08-05 00:00:00\n",
       "期权费支付日                     2019-08-07 00:00:00\n",
       "收益兑付日                      2019-08-07 00:00:00\n",
       "计划期限                                        33\n",
       "执行价格                                   3309.22\n",
       "上障碍                                       None\n",
       "下障碍                                       None\n",
       "上障碍价格                                        0\n",
       "下障碍价格                                        0\n",
       "Option Rebate                                0\n",
       "Digital amount                            None\n",
       "合约参与率                                     None\n",
       "合同参与率                                   100.0%\n",
       "绝对名义本金                                   10000\n",
       "期初价格                                    3893.2\n",
       "期权费率                                   14.5002\n",
       "到期收益                                         0\n",
       "数量                                    -5137.16\n",
       "Buy/Sell                                  Sell\n",
       "Start Date                                 NaT\n",
       "End Date                                  None\n",
       "Fixed Rate                                None\n",
       "REBATE Fee                                   0\n",
       "Coupon Dates                              None\n",
       "Callable Dates                            None\n",
       "最高收益率                                      0.3\n",
       "参考期现                                        32\n",
       "k                                      3309.22\n",
       "startingPrice                           3893.2\n",
       "s0                                     3802.79\n",
       "sigma                                 0.202428\n",
       "quantity                               5137.16\n",
       "buy                                      False\n",
       "price                                     None\n",
       "delta                                     None\n",
       "gamma                                     None\n",
       "vega                                      None\n",
       "theta                                     None\n",
       "T                                           28\n",
       "Name: 19, dtype: object"
      ]
     },
     "execution_count": 14,
     "metadata": {},
     "output_type": "execute_result"
    }
   ],
   "source": [
    "data.iloc[19]"
   ]
  },
  {
   "cell_type": "code",
   "execution_count": 41,
   "metadata": {},
   "outputs": [
    {
     "data": {
      "text/plain": [
       "79"
      ]
     },
     "execution_count": 41,
     "metadata": {},
     "output_type": "execute_result"
    }
   ],
   "source": [
    "final = datetime.strptime(\"2019-9-25\", '%Y-%m-%d')\n",
    "startDay = datetime.strptime(\"2019-07-08\", '%Y-%m-%d')\n",
    "(final - startDay).days"
   ]
  },
  {
   "cell_type": "code",
   "execution_count": 42,
   "metadata": {},
   "outputs": [
    {
     "data": {
      "text/plain": [
       "0.024521575"
      ]
     },
     "execution_count": 42,
     "metadata": {},
     "output_type": "execute_result"
    }
   ],
   "source": [
    "#ratePoints = [None, 0.0229471, 0.0250464, 0.0254817, 0.0255681, 0.0258563, 0.0263679, 0.0270334, 0.0279025, 0.0287345]\n",
    "rate.getRiskFreeRate(79, ratePoints)"
   ]
  },
  {
   "cell_type": "code",
   "execution_count": 15,
   "metadata": {},
   "outputs": [],
   "source": [
    "#computePrice(data, dataType, indexToFind, timeShift, s0IsOne, rf, dt, s0Shock, sigmaShock)\n",
    "[price_tmp, delta_tmp, gamma_tmp, vega_tmp, theta_tmp] = pm.computeCallData(data, 19, 0, False, 0.0229471, 1/365, 1, 1)"
   ]
  },
  {
   "cell_type": "code",
   "execution_count": 20,
   "metadata": {},
   "outputs": [
    {
     "data": {
      "text/plain": [
       "-97.38940036742503"
      ]
     },
     "execution_count": 20,
     "metadata": {},
     "output_type": "execute_result"
    }
   ],
   "source": [
    "theta_tmp"
   ]
  },
  {
   "cell_type": "code",
   "execution_count": 21,
   "metadata": {},
   "outputs": [
    {
     "data": {
      "text/plain": [
       "0.12837124906080777"
      ]
     },
     "execution_count": 21,
     "metadata": {},
     "output_type": "execute_result"
    }
   ],
   "source": [
    "price_tmp / data[\"startingPrice\"][19]"
   ]
  },
  {
   "cell_type": "code",
   "execution_count": null,
   "metadata": {},
   "outputs": [],
   "source": []
  }
 ],
 "metadata": {
  "kernelspec": {
   "display_name": "Python 3",
   "language": "python",
   "name": "python3"
  },
  "language_info": {
   "codemirror_mode": {
    "name": "ipython",
    "version": 3
   },
   "file_extension": ".py",
   "mimetype": "text/x-python",
   "name": "python",
   "nbconvert_exporter": "python",
   "pygments_lexer": "ipython3",
   "version": "3.7.4"
  }
 },
 "nbformat": 4,
 "nbformat_minor": 2
}

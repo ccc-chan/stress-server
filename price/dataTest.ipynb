{
 "cells": [
  {
   "source": [
    "from numpy import *\n",
    "import matplotlib.pyplot as plt\n",
    "from scipy import integrate\n",
    "from scipy import stats\n",
    "import pandas as pd\n",
    "from datetime import datetime, timedelta\n",
    "\n",
    "import pricingModel as pm\n",
    "import others as others\n",
    "import optionPricingFormulas2 as opf2"
   ],
   "cell_type": "code",
   "outputs": [],
   "metadata": {},
   "execution_count": 1
  },
  {
   "cell_type": "code",
   "execution_count": 2,
   "metadata": {},
   "outputs": [],
   "source": [
    "def readData():\n",
    "    sigmaData = pd.read_excel(\"sigmaData.xls\")\n",
    "    sigmaData = sigmaData.where(sigmaData.notnull(), None)\n",
    "    defaultSigma = None\n",
    "    defaultTodayPrice = None ###########\n",
    "    defaultQuantity = None\n",
    "    \n",
    "    sigmaDic = {}\n",
    "    todayPriceDic = {} #todayPrice is the input file day's price and has no relation to the input T\n",
    "    quantityDic = {}\n",
    "    liveID = []\n",
    "    \n",
    "    for i in range(len(sigmaData)):\n",
    "        if sigmaData[\"Unnamed: 1\"][i] is not None:\n",
    "            liveID.append(sigmaData[\"Unnamed: 1\"][i].split()[-1])\n",
    "            if sigmaData[\"Vol\"][i] is not None:\n",
    "                sigmaDic[sigmaData[\"Unnamed: 1\"][i].split()[-1]] = (sigmaData[\"Vol\"][i] / 100.0)\n",
    "            else:\n",
    "                sigmaDic[sigmaData[\"Unnamed: 1\"][i].split()[-1]] = defaultSigma\n",
    "            \n",
    "            if sigmaData[\"Underlying_Spot\"][i] is not None:\n",
    "                todayPriceDic[sigmaData[\"Unnamed: 1\"][i].split()[-1]] = sigmaData[\"Underlying_Spot\"][i]\n",
    "            else:\n",
    "                todayPriceDic[sigmaData[\"Unnamed: 1\"][i].split()[-1]] = defaultTodayPrice\n",
    "                \n",
    "            if sigmaData[\"Quantity\"][i] is not None:\n",
    "                quantityDic[sigmaData[\"Unnamed: 1\"][i].split()[-1]] = sigmaData[\"Quantity\"][i]\n",
    "            else:\n",
    "                quantityDic[sigmaData[\"Unnamed: 1\"][i].split()[-1]] = defaultQuantity\n",
    "\n",
    "\n",
    "    data = pd.read_excel(\"data.xls\")\n",
    "    data = data.where(data.notnull(), None)\n",
    "    data.drop([0], axis = 0, inplace = True) #inplace means data = data.changed\n",
    "    data.reset_index(drop = True, inplace = True)\n",
    "    data.rename(columns = {\"AGGREGATION\":\"AGGREGATION BUNDLE\"}, inplace = True)\n",
    "    \n",
    "    liveIDBoolSet = []\n",
    "    for ID in data[\"AGGREGATION BUNDLE\"]:\n",
    "        if ID in liveID:\n",
    "            liveIDBoolSet.append(True)\n",
    "        else:\n",
    "            liveIDBoolSet.append(False)\n",
    "    data = data[liveIDBoolSet]\n",
    "    data.reset_index(drop = True, inplace = True)\n",
    "\n",
    "    \n",
    "    data[\"k\"] = data[\"执行价格\"]\n",
    "    data[\"startingPrice\"] = data[\"期初价格\"]\n",
    "    \n",
    "    s0Set = []\n",
    "    for i in range(len(data)):\n",
    "        if data[\"AGGREGATION BUNDLE\"][i] in todayPriceDic:\n",
    "            s0Set.append(todayPriceDic[data[\"AGGREGATION BUNDLE\"][i]])\n",
    "        else:\n",
    "            s0Set.append(defaultTodayPrice)\n",
    "    data[\"s0\"] = s0Set\n",
    "\n",
    "    sigmaSet = []\n",
    "    for i in range(len(data)):\n",
    "        if data[\"AGGREGATION BUNDLE\"][i] in sigmaDic:\n",
    "            sigmaSet.append(sigmaDic[data[\"AGGREGATION BUNDLE\"][i]])\n",
    "        else:\n",
    "            sigmaSet.append(defaultSigma)\n",
    "    data[\"sigma\"] = sigmaSet\n",
    "    \n",
    "    quantitySet = []\n",
    "    for i in range(len(data)):\n",
    "        if data[\"AGGREGATION BUNDLE\"][i] in quantityDic:\n",
    "            quantitySet.append(quantityDic[data[\"AGGREGATION BUNDLE\"][i]])\n",
    "        else:\n",
    "            quantitySet.append(defaultQuantity)\n",
    "    data[\"quantity\"] = quantitySet\n",
    "    \n",
    "    buySet = []\n",
    "    for i in range(len(data)):\n",
    "        if data[\"Buy/Sell\"][i] == \"Buy\":\n",
    "            buySet.append(True)\n",
    "        else:\n",
    "            buySet.append(False)\n",
    "    data[\"buy\"] = buySet\n",
    "    \n",
    "    data[\"price\"] = None\n",
    "    data[\"delta\"] = None\n",
    "    data[\"gamma\"] = None\n",
    "    data[\"vega\"] = None\n",
    "    data[\"theta\"] = None\n",
    "    return data\n",
    "\n",
    "def setT(data, today):\n",
    "    T_tmp = []\n",
    "    setDay = datetime.strptime(today, '%Y-%m-%d') #fixed format\n",
    "    for daysDelta in (data[\"期末定价日\"] - setDay):\n",
    "        if type(daysDelta.days) != type(int(1)): #should be type.int\n",
    "            T_tmp.append(int(0))\n",
    "        elif daysDelta.days < 0:\n",
    "            T_tmp.append(int(0))\n",
    "        else:\n",
    "            T_tmp.append(daysDelta.days)\n",
    "    data[\"T\"] = T_tmp #it means from the chosen date to the end date\n",
    "    return data"
   ]
  },
  {
   "cell_type": "code",
   "execution_count": 3,
   "metadata": {},
   "outputs": [],
   "source": [
    "data = readData()\n",
    "data = setT(data,\"2019-07-08\")"
   ]
  },
  {
   "cell_type": "code",
   "execution_count": 6,
   "metadata": {},
   "outputs": [
    {
     "data": {
      "text/plain": [
       "Int64Index([173], dtype='int64')"
      ]
     },
     "execution_count": 6,
     "metadata": {},
     "output_type": "execute_result"
    }
   ],
   "source": [
    "data[data[\"AGGREGATION BUNDLE\"] == \"19479580\"].index"
   ]
  },
  {
   "cell_type": "code",
   "execution_count": 7,
   "metadata": {},
   "outputs": [
    {
     "data": {
      "text/plain": [
       "AGGREGATION BUNDLE                    19479580\n",
       "Product Reference     JNNSH2019001-315.6.VCALL\n",
       "类型                                       VCALL\n",
       "Sub Type                              European\n",
       "涨跌                                        CALL\n",
       "欧式\\美式                                 European\n",
       "WIND代码                                  AU1912\n",
       "结构简称                                      None\n",
       "期初定价日                      2019-06-27 00:00:00\n",
       "期末定价日                      2019-09-25 00:00:00\n",
       "期权费支付日                     2019-06-27 00:00:00\n",
       "收益兑付日                      2019-09-27 00:00:00\n",
       "计划期限                                        92\n",
       "执行价格                                     315.6\n",
       "上障碍                                       None\n",
       "下障碍                                       None\n",
       "上障碍价格                                        0\n",
       "下障碍价格                                        0\n",
       "Option Rebate                                0\n",
       "Digital amount                            None\n",
       "合约参与率                                     None\n",
       "合同参与率                                     3.0%\n",
       "绝对名义本金                                   10000\n",
       "期初价格                                     315.6\n",
       "期权费率                                   3.52178\n",
       "到期收益                                         0\n",
       "数量                                     -455.23\n",
       "Buy/Sell                                  Sell\n",
       "Start Date                                 NaT\n",
       "End Date                                  None\n",
       "Fixed Rate                                None\n",
       "REBATE Fee                                   0\n",
       "Coupon Dates                              None\n",
       "Callable Dates                            None\n",
       "最高收益率                                    0.003\n",
       "参考期现                                        91\n",
       "k                                        315.6\n",
       "startingPrice                            315.6\n",
       "s0                                      316.35\n",
       "sigma                                 0.144248\n",
       "quantity                                455.23\n",
       "buy                                      False\n",
       "price                                     None\n",
       "delta                                     None\n",
       "gamma                                     None\n",
       "vega                                      None\n",
       "theta                                     None\n",
       "T                                           79\n",
       "Name: 173, dtype: object"
      ]
     },
     "execution_count": 7,
     "metadata": {},
     "output_type": "execute_result"
    }
   ],
   "source": [
    "data.iloc[173]"
   ]
  },
  {
   "cell_type": "code",
   "execution_count": 17,
   "metadata": {},
   "outputs": [],
   "source": [
    "#computePrice(data, dataType, indexToFind, timeShift, s0IsOne, rf, dt, s0Shock, sigmaShock)\n",
    "[price_tmp, delta_tmp, gamma_tmp, vega_tmp, theta_tmp] = pm.computeCallData(data, 173, 0, False, 0.0245, 1/365, 1, 1)"
   ]
  },
  {
   "cell_type": "code",
   "execution_count": 25,
   "metadata": {},
   "outputs": [
    {
     "data": {
      "text/plain": [
       "79"
      ]
     },
     "execution_count": 25,
     "metadata": {},
     "output_type": "execute_result"
    }
   ],
   "source": [
    "final = datetime.strptime(\"2019-9-25\", '%Y-%m-%d')\n",
    "startDay = datetime.strptime(\"2019-07-08\", '%Y-%m-%d')\n",
    "(final - startDay).days"
   ]
  },
  {
   "cell_type": "code",
   "execution_count": 20,
   "metadata": {},
   "outputs": [
    {
     "data": {
      "text/plain": [
       "316.35"
      ]
     },
     "execution_count": 20,
     "metadata": {},
     "output_type": "execute_result"
    }
   ],
   "source": [
    "data[\"s0\"][173]"
   ]
  },
  {
   "cell_type": "code",
   "execution_count": 24,
   "metadata": {},
   "outputs": [
    {
     "data": {
      "text/plain": [
       "312.8026508639136"
      ]
     },
     "execution_count": 24,
     "metadata": {},
     "output_type": "execute_result"
    }
   ],
   "source": [
    "sss = data[\"s0\"][173] * exp(-1 * 0.0245 * 168/365)\n",
    "sss"
   ]
  },
  {
   "cell_type": "code",
   "execution_count": 18,
   "metadata": {},
   "outputs": [
    {
     "data": {
      "text/plain": [
       "0.03073556982153795"
      ]
     },
     "execution_count": 18,
     "metadata": {},
     "output_type": "execute_result"
    }
   ],
   "source": [
    "price_tmp / data[\"startingPrice\"][173]"
   ]
  },
  {
   "cell_type": "code",
   "execution_count": 36,
   "metadata": {},
   "outputs": [
    {
     "data": {
      "text/plain": [
       "0.027852818955208816"
      ]
     },
     "execution_count": 36,
     "metadata": {},
     "output_type": "execute_result"
    }
   ],
   "source": [
    "opf2.call(314.675, 315.6, 0.144248, 0.0245, 79/365, q = 0) / data[\"startingPrice\"][173]"
   ]
  },
  {
   "cell_type": "code",
   "execution_count": null,
   "metadata": {},
   "outputs": [],
   "source": [
    "log(316.35 / 314.675)"
   ]
  },
  {
   "cell_type": "code",
   "execution_count": 255,
   "metadata": {},
   "outputs": [
    {
     "data": {
      "text/plain": [
       "[<matplotlib.lines.Line2D at 0x2115f91e788>]"
      ]
     },
     "execution_count": 255,
     "metadata": {},
     "output_type": "execute_result"
    },
    {
     "data": {
      "image/png": "[encoded data removed]",
      "text/plain": [
       "<Figure size 432x288 with 1 Axes>"
      ]
     },
     "metadata": {
      "needs_background": "light"
     },
     "output_type": "display_data"
    }
   ],
   "source": [
    "delta = []\n",
    "r = linspace(0.0225, 0.0235, 101)\n",
    "for rf in r:\n",
    "    [price_tmp, delta_tmp, gamma_tmp, vega_tmp, theta_tmp] = pm.computeCallData(data, 19, 0, False, rf, 1/365, 1, 1)\n",
    "    delta.append(delta_tmp * 100)\n",
    "plt.plot(r, delta)"
   ]
  },
  {
   "cell_type": "code",
   "execution_count": 249,
   "metadata": {},
   "outputs": [
    {
     "data": {
      "text/plain": [
       "0.007580170609855685"
      ]
     },
     "execution_count": 249,
     "metadata": {},
     "output_type": "execute_result"
    }
   ],
   "source": [
    "gamma_tmp * 100"
   ]
  },
  {
   "cell_type": "code",
   "execution_count": 167,
   "metadata": {},
   "outputs": [],
   "source": [
    "#-99.4317, -0.00745"
   ]
  },
  {
   "cell_type": "code",
   "execution_count": 290,
   "metadata": {},
   "outputs": [
    {
     "data": {
      "text/plain": [
       "Int64Index([146], dtype='int64')"
      ]
     },
     "execution_count": 290,
     "metadata": {},
     "output_type": "execute_result"
    }
   ],
   "source": [
    "data[data[\"AGGREGATION BUNDLE\"] == \"19577342\"].index"
   ]
  },
  {
   "cell_type": "code",
   "execution_count": 291,
   "metadata": {},
   "outputs": [
    {
     "data": {
      "text/plain": [
       "AGGREGATION BUNDLE                  19577342\n",
       "Product Reference     OTC2019109-46783.2.DBC\n",
       "类型                                       DBC\n",
       "Sub Type                             BARRIER\n",
       "涨跌                                      CALL\n",
       "欧式\\美式                               European\n",
       "WIND代码                                CU1909\n",
       "结构简称                                    None\n",
       "期初定价日                    2019-07-05 00:00:00\n",
       "期末定价日                    2019-08-05 00:00:00\n",
       "期权费支付日                   2019-08-07 00:00:00\n",
       "收益兑付日                    2019-08-07 00:00:00\n",
       "计划期限                                      31\n",
       "执行价格                                 46783.2\n",
       "上障碍                                      OUT\n",
       "下障碍                                      OUT\n",
       "上障碍价格                                49099.2\n",
       "下障碍价格                                43540.8\n",
       "Option Rebate                      0.0116667\n",
       "Digital amount                          None\n",
       "合约参与率                                   None\n",
       "合同参与率                                 150.0%\n",
       "绝对名义本金                                 10000\n",
       "期初价格                                   46320\n",
       "期权费率                                0.762445\n",
       "到期收益                                       0\n",
       "数量                                   -113.08\n",
       "Buy/Sell                                Sell\n",
       "Start Date                               NaT\n",
       "End Date                                None\n",
       "Fixed Rate                              None\n",
       "REBATE Fee                                 0\n",
       "Coupon Dates                            None\n",
       "Callable Dates                          None\n",
       "最高收益率                                  0.075\n",
       "参考期现                                      32\n",
       "k                                    46783.2\n",
       "startingPrice                          46320\n",
       "s0                                     46390\n",
       "sigma                               0.112579\n",
       "quantity                              113.08\n",
       "buy                                    False\n",
       "price                                   None\n",
       "delta                                   None\n",
       "gamma                                   None\n",
       "vega                                    None\n",
       "theta                                   None\n",
       "T                                         28\n",
       "Name: 146, dtype: object"
      ]
     },
     "execution_count": 291,
     "metadata": {},
     "output_type": "execute_result"
    }
   ],
   "source": [
    "data.iloc[146]"
   ]
  },
  {
   "cell_type": "code",
   "execution_count": 292,
   "metadata": {},
   "outputs": [],
   "source": [
    "k_tmp, s0_tmp, T_tmp, barrierL_tmp, barrierU_tmp, rebate_tmp, sigma, amplifier = data.loc[146, [\"k\", \"s0\", \"T\", \"下障碍价格\", \n",
    "                                                                                                     \"上障碍价格\", \n",
    "                                                                                                     \"Option Rebate\", \"sigma\", \n",
    "                                                                                                     \"合同参与率\"]]\n",
    "sigma = sigma * 1\n",
    "s0_tmp = s0_tmp * 1\n",
    "a = float(amplifier[:-1]) / 100\n",
    "a = 1\n",
    "T_tmp = T_tmp - 0\n",
    "T_tmp = T_tmp / 365\n",
    "rebate_tmp = rebate_tmp * data[\"startingPrice\"][146] / a\n"
   ]
  },
  {
   "cell_type": "code",
   "execution_count": 293,
   "metadata": {},
   "outputs": [
    {
     "data": {
      "text/plain": [
       "43540.8"
      ]
     },
     "execution_count": 293,
     "metadata": {},
     "output_type": "execute_result"
    }
   ],
   "source": [
    "barrierL_tmp"
   ]
  },
  {
   "cell_type": "code",
   "execution_count": 294,
   "metadata": {},
   "outputs": [
    {
     "data": {
      "text/plain": [
       "338.85355510266976"
      ]
     },
     "execution_count": 294,
     "metadata": {},
     "output_type": "execute_result"
    }
   ],
   "source": [
    "opf2.dboc(s0_tmp, k_tmp, barrierL_tmp, barrierU_tmp, rebate_tmp, sigma, 0.023, T_tmp, 1/365, 0)"
   ]
  },
  {
   "cell_type": "code",
   "execution_count": 300,
   "metadata": {},
   "outputs": [
    {
     "data": {
      "text/plain": [
       "46320.0"
      ]
     },
     "execution_count": 300,
     "metadata": {},
     "output_type": "execute_result"
    }
   ],
   "source": [
    "data[\"startingPrice\"][146]"
   ]
  },
  {
   "cell_type": "code",
   "execution_count": 301,
   "metadata": {},
   "outputs": [
    {
     "data": {
      "text/plain": [
       "0.011666666666667"
      ]
     },
     "execution_count": 301,
     "metadata": {},
     "output_type": "execute_result"
    }
   ],
   "source": [
    "data.loc[146, \"Option Rebate\"]"
   ]
  },
  {
   "cell_type": "code",
   "execution_count": null,
   "metadata": {},
   "outputs": [],
   "source": []
  },
  {
   "cell_type": "code",
   "execution_count": 296,
   "metadata": {},
   "outputs": [],
   "source": [
    "#def dboc(s0, k, b1, b2, rb, v, r, T, dt = 0, q = 0):\n",
    "#opf2.dboc(s0_tmp, k_tmp, barrierL_tmp, barrierU_tmp, rebate_tmp, sigma, rf, T_tmp, dt) * a"
   ]
  },
  {
   "cell_type": "code",
   "execution_count": 297,
   "metadata": {},
   "outputs": [
    {
     "data": {
      "text/plain": [
       "291.7433323983723"
      ]
     },
     "execution_count": 297,
     "metadata": {},
     "output_type": "execute_result"
    }
   ],
   "source": [
    "opf2.dboc0rb(s0_tmp, k_tmp, barrierL_tmp, barrierU_tmp, sigma, 0.023, T_tmp, 1/365, 0)"
   ]
  },
  {
   "cell_type": "code",
   "execution_count": 298,
   "metadata": {},
   "outputs": [
    {
     "data": {
      "text/plain": [
       "0.08717657791320532"
      ]
     },
     "execution_count": 298,
     "metadata": {},
     "output_type": "execute_result"
    }
   ],
   "source": [
    "opf2.dbudi(s0_tmp, k_tmp, barrierL_tmp, barrierU_tmp, sigma, 0.023, T_tmp, 1/365, 0)"
   ]
  },
  {
   "cell_type": "code",
   "execution_count": 299,
   "metadata": {},
   "outputs": [
    {
     "data": {
      "text/plain": [
       "47.1102227042975"
      ]
     },
     "execution_count": 299,
     "metadata": {},
     "output_type": "execute_result"
    }
   ],
   "source": [
    "rebate_tmp * opf2.dbudi(s0_tmp, k_tmp, barrierL_tmp, barrierU_tmp, sigma, 0.023, T_tmp, 1/365, 0)"
   ]
  },
  {
   "cell_type": "code",
   "execution_count": 46,
   "metadata": {},
   "outputs": [
    {
     "data": {
      "text/plain": [
       "31.333333333333332"
      ]
     },
     "execution_count": 46,
     "metadata": {},
     "output_type": "execute_result"
    }
   ],
   "source": [
    "47/1.5"
   ]
  },
  {
   "cell_type": "code",
   "execution_count": 302,
   "metadata": {},
   "outputs": [
    {
     "data": {
      "text/plain": [
       "Int64Index([147], dtype='int64')"
      ]
     },
     "execution_count": 302,
     "metadata": {},
     "output_type": "execute_result"
    }
   ],
   "source": [
    "data[data[\"AGGREGATION BUNDLE\"] == \"19577343\"].index"
   ]
  },
  {
   "cell_type": "code",
   "execution_count": 303,
   "metadata": {},
   "outputs": [],
   "source": [
    "#computePrice(data, dataType, indexToFind, timeShift, s0IsOne, rf, dt, s0Shock, sigmaShock)\n",
    "[price_tmp, delta_tmp, gamma_tmp, vega_tmp, theta_tmp] = pm.computeDBPData(data, 147, 0, False, 0.023, 1/365, 1, 1)"
   ]
  },
  {
   "cell_type": "code",
   "execution_count": 304,
   "metadata": {},
   "outputs": [
    {
     "data": {
      "text/plain": [
       "293.0268274495188"
      ]
     },
     "execution_count": 304,
     "metadata": {},
     "output_type": "execute_result"
    }
   ],
   "source": [
    "price_tmp"
   ]
  },
  {
   "cell_type": "code",
   "execution_count": 305,
   "metadata": {},
   "outputs": [],
   "source": [
    "k_tmp, s0_tmp, T_tmp, barrierL_tmp, barrierU_tmp, rebate_tmp, sigma, amplifier = data.loc[147, [\"k\", \"s0\", \"T\", \"下障碍价格\", \n",
    "                                                                                                     \"上障碍价格\", \n",
    "                                                                                                     \"Option Rebate\", \"sigma\", \n",
    "                                                                                                     \"合同参与率\"]]\n",
    "sigma = sigma * 1\n",
    "s0_tmp = s0_tmp * 1\n",
    "a = float(amplifier[:-1]) / 100\n",
    "a = 1\n",
    "T_tmp = T_tmp + 0\n",
    "T_tmp = T_tmp / 365\n",
    "rebate_tmp = rebate_tmp * data[\"startingPrice\"][147] / a\n"
   ]
  },
  {
   "cell_type": "code",
   "execution_count": 306,
   "metadata": {},
   "outputs": [
    {
     "data": {
      "text/plain": [
       "293.0268274495188"
      ]
     },
     "execution_count": 306,
     "metadata": {},
     "output_type": "execute_result"
    }
   ],
   "source": [
    "opf2.dbop(s0_tmp, k_tmp, barrierL_tmp, barrierU_tmp, rebate_tmp, sigma, 0.023, T_tmp, 1/365, 0)"
   ]
  },
  {
   "cell_type": "code",
   "execution_count": 307,
   "metadata": {},
   "outputs": [],
   "source": [
    "p2 = opf2.dbudi(s0_tmp, k_tmp, barrierL_tmp, barrierU_tmp, sigma, 0.023, T_tmp, 1/365, 0)"
   ]
  },
  {
   "cell_type": "code",
   "execution_count": 308,
   "metadata": {},
   "outputs": [
    {
     "data": {
      "text/plain": [
       "540.4000000000154"
      ]
     },
     "execution_count": 308,
     "metadata": {},
     "output_type": "execute_result"
    }
   ],
   "source": [
    "rebate_tmp"
   ]
  },
  {
   "cell_type": "code",
   "execution_count": 309,
   "metadata": {},
   "outputs": [
    {
     "data": {
      "text/plain": [
       "245.91660474522132"
      ]
     },
     "execution_count": 309,
     "metadata": {},
     "output_type": "execute_result"
    }
   ],
   "source": [
    "opf2.dbop0rb(s0_tmp, k_tmp, barrierL_tmp, barrierU_tmp, sigma, 0.023, T_tmp, 1/365, 0)"
   ]
  },
  {
   "cell_type": "code",
   "execution_count": 119,
   "metadata": {},
   "outputs": [
    {
     "data": {
      "text/plain": [
       "307.1598942608081"
      ]
     },
     "execution_count": 119,
     "metadata": {},
     "output_type": "execute_result"
    }
   ],
   "source": [
    "p1 + rebate_tmp * p2 * 1.3"
   ]
  },
  {
   "cell_type": "code",
   "execution_count": 116,
   "metadata": {},
   "outputs": [
    {
     "data": {
      "text/plain": [
       "0.08717657791320532"
      ]
     },
     "execution_count": 116,
     "metadata": {},
     "output_type": "execute_result"
    }
   ],
   "source": [
    "p2"
   ]
  },
  {
   "cell_type": "code",
   "execution_count": 117,
   "metadata": {},
   "outputs": [
    {
     "data": {
      "text/plain": [
       "245.91660474522132"
      ]
     },
     "execution_count": 117,
     "metadata": {},
     "output_type": "execute_result"
    }
   ],
   "source": [
    "p1"
   ]
  },
  {
   "cell_type": "code",
   "execution_count": null,
   "metadata": {},
   "outputs": [],
   "source": []
  }
 ],
 "metadata": {
  "kernelspec": {
   "display_name": "Python 3",
   "language": "python",
   "name": "python3"
  },
  "language_info": {
   "codemirror_mode": {
    "name": "ipython",
    "version": 3
   },
   "file_extension": ".py",
   "mimetype": "text/x-python",
   "name": "python",
   "nbconvert_exporter": "python",
   "pygments_lexer": "ipython3",
   "version": "3.7.4"
  }
 },
 "nbformat": 4,
 "nbformat_minor": 2
}
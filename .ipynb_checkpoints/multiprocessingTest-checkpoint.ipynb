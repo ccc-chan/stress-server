{
 "cells": [
  {
   "cell_type": "code",
   "execution_count": null,
   "metadata": {},
   "outputs": [],
   "source": [
    "from multiprocessing import Process, Pool, freeze_support, Manager\n",
    "import os, time, random\n",
    "from numpy import pi, sin\n",
    "from price import appModel as model\n",
    "from price import others as others\n",
    "from price import heatMap as heatMap\n",
    "\n",
    "import multiprocessingTest"
   ]
  },
  {
   "cell_type": "code",
   "execution_count": 21,
   "metadata": {},
   "outputs": [],
   "source": [
    "inputSearch = \"000300.SH\"  #########\n",
    "today = \"2019-12-19\"\n",
    "s0Shock = \"1.0\"\n",
    "sigmaShock = \"1.0\"\n",
    "ratePoints = [None, 0.0229471, 0.0250464, 0.0254817, 0.0255681, 0.0258563, 0.0263679, 0.0270334, 0.0279025, None]\n",
    "data = model.readData()\n",
    "data = others.setT(data,today)"
   ]
  },
  {
   "cell_type": "code",
   "execution_count": 22,
   "metadata": {},
   "outputs": [],
   "source": [
    "#[idSet, price_tmpSet, deltaExposureSet, delta_tmpSet, gammaExposureSet, gamma_tmpSet, thetaExposureSet, theta_tmpSet, vegaExposureSet, vega_tmpSet, PVSet]\n",
    "result = model.getDataWithSearch(data, inputSearch, ratePoints, s0Shock, sigmaShock)"
   ]
  },
  {
   "cell_type": "code",
   "execution_count": 23,
   "metadata": {},
   "outputs": [
    {
     "data": {
      "text/plain": [
       "-0.009"
      ]
     },
     "execution_count": 23,
     "metadata": {},
     "output_type": "execute_result"
    }
   ],
   "source": [
    "result[1][0]"
   ]
  },
  {
   "cell_type": "code",
   "execution_count": null,
   "metadata": {},
   "outputs": [],
   "source": [
    "if __name__ == \"__main__\":\n",
    "    manager = Manager()\n",
    "    return_dict = manager.dict()\n",
    "    pool = Pool(os.cpu_count())\n",
    "    for i in range(100):\n",
    "        result = pool.apply_async(multiprocessingTest.worker, (i, data, inputSearch, ratePoints, s0Shock, sigmaShock, return_dict,))\n",
    "    pool.close()\n",
    "    pool.join()\n",
    "    pool.terminate()\n",
    "    print(return_dict)"
   ]
  },
  {
   "cell_type": "code",
   "execution_count": null,
   "metadata": {},
   "outputs": [],
   "source": []
  }
 ],
 "metadata": {
  "kernelspec": {
   "display_name": "Python 3",
   "language": "python",
   "name": "python3"
  },
  "language_info": {
   "codemirror_mode": {
    "name": "ipython",
    "version": 3
   },
   "file_extension": ".py",
   "mimetype": "text/x-python",
   "name": "python",
   "nbconvert_exporter": "python",
   "pygments_lexer": "ipython3",
   "version": "3.7.4"
  }
 },
 "nbformat": 4,
 "nbformat_minor": 2
}

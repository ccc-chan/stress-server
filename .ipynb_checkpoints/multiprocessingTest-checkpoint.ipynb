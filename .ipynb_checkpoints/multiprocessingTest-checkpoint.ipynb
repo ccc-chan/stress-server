{
 "cells": [
  {
   "cell_type": "code",
   "execution_count": 1,
   "metadata": {},
   "outputs": [],
   "source": [
    "from multiprocessing import Pool, Manager\n",
    "import os, time, random\n",
    "from numpy import pi, sin\n",
    "from price import appModel as model\n",
    "from price import others as others\n",
    "from price import heatMap as heatMap\n",
    "\n",
    "import multiprocessingTest"
   ]
  },
  {
   "cell_type": "code",
   "execution_count": 2,
   "metadata": {},
   "outputs": [],
   "source": [
    "inputSearch = \"000300.SH\"  #########\n",
    "today = \"2019-12-19\"\n",
    "s0Shock = \"1.0\"\n",
    "sigmaShock = \"1.0\"\n",
    "ratePoints = [None, 0.0229471, 0.0250464, 0.0254817, 0.0255681, 0.0258563, 0.0263679, 0.0270334, 0.0279025, None]\n",
    "data = model.readData()\n",
    "data = others.setT(data,today)"
   ]
  },
  {
   "cell_type": "code",
   "execution_count": 3,
   "metadata": {},
   "outputs": [],
   "source": [
    "#[idSet, price_tmpSet, deltaExposureSet, delta_tmpSet, gammaExposureSet, gamma_tmpSet, thetaExposureSet, theta_tmpSet, vegaExposureSet, vega_tmpSet, PVSet]\n",
    "result = model.getDataWithSearch(data, inputSearch, ratePoints, s0Shock, sigmaShock)"
   ]
  },
  {
   "cell_type": "code",
   "execution_count": 4,
   "metadata": {},
   "outputs": [
    {
     "data": {
      "text/plain": [
       "-0.009"
      ]
     },
     "execution_count": 4,
     "metadata": {},
     "output_type": "execute_result"
    }
   ],
   "source": [
    "result[1][0]"
   ]
  },
  {
   "cell_type": "code",
   "execution_count": 5,
   "metadata": {},
   "outputs": [
    {
     "name": "stdout",
     "output_type": "stream",
     "text": [
      "{4: -0.009, 1: -0.009, 0: -0.009, 3: -0.009, 2: -0.009, 5: -0.009, 6: -0.009, 7: -0.009, 10: -0.009, 11: -0.009, 9: -0.009, 8: -0.009, 14: -0.009, 12: -0.009, 13: -0.009, 15: -0.009, 17: -0.009, 18: -0.009, 20: -0.009, 16: -0.009, 21: -0.009, 19: -0.009, 22: -0.009, 23: -0.009, 24: -0.009, 25: -0.009, 26: -0.009, 28: -0.009, 27: -0.009, 29: -0.009, 30: -0.009, 31: -0.009, 32: -0.009, 33: -0.009, 34: -0.009, 35: -0.009, 36: -0.009, 38: -0.009, 37: -0.009, 39: -0.009, 40: -0.009, 41: -0.009, 42: -0.009, 43: -0.009, 44: -0.009, 45: -0.009, 46: -0.009, 47: -0.009, 48: -0.009, 49: -0.009, 50: -0.009, 51: -0.009, 52: -0.009, 53: -0.009, 54: -0.009, 55: -0.009, 56: -0.009, 57: -0.009, 59: -0.009, 61: -0.009, 58: -0.009, 60: -0.009, 62: -0.009, 63: -0.009, 64: -0.009, 65: -0.009, 67: -0.009, 66: -0.009, 68: -0.009, 69: -0.009, 70: -0.009, 71: -0.009, 72: -0.009, 73: -0.009, 74: -0.009, 75: -0.009, 76: -0.009, 77: -0.009, 78: -0.009, 79: -0.009, 80: -0.009, 81: -0.009, 83: -0.009, 82: -0.009, 84: -0.009, 85: -0.009, 86: -0.009, 87: -0.009, 88: -0.009, 89: -0.009, 90: -0.009, 91: -0.009, 92: -0.009, 93: -0.009, 94: -0.009, 96: -0.009, 95: -0.009, 98: -0.009, 97: -0.009, 99: -0.009}\n"
     ]
    }
   ],
   "source": [
    "if __name__ == \"__main__\":\n",
    "    manager = Manager()\n",
    "    return_dict = manager.dict()\n",
    "    pool = Pool(os.cpu_count())\n",
    "    for i in range(100):\n",
    "        result = pool.apply_async(multiprocessingTest.worker, (i, data, inputSearch, ratePoints, s0Shock, sigmaShock, return_dict,))\n",
    "    pool.close()\n",
    "    pool.join()\n",
    "    pool.terminate()\n",
    "    print(return_dict)"
   ]
  },
  {
   "cell_type": "code",
   "execution_count": null,
   "metadata": {},
   "outputs": [],
   "source": []
  }
 ],
 "metadata": {
  "kernelspec": {
   "display_name": "Python 3",
   "language": "python",
   "name": "python3"
  },
  "language_info": {
   "codemirror_mode": {
    "name": "ipython",
    "version": 3
   },
   "file_extension": ".py",
   "mimetype": "text/x-python",
   "name": "python",
   "nbconvert_exporter": "python",
   "pygments_lexer": "ipython3",
   "version": "3.7.4"
  }
 },
 "nbformat": 4,
 "nbformat_minor": 2
}
